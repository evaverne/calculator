{
 "cells": [
  {
   "cell_type": "code",
   "execution_count": 46,
   "metadata": {},
   "outputs": [
    {
     "name": "stdout",
     "output_type": "stream",
     "text": [
      "Please, insert Reverse Polish Notation: 2 4 *\n",
      "Something went wrong...maybe you?\n"
     ]
    }
   ],
   "source": [
    "    try:\n",
    "        notation = int(input('Please, insert Reverse Polish Notation: '))\n",
    "    except ValueError:\n",
    "        print(\"Something went wrong...maybe you?\")\n",
    "    #print(\"Go on\")"
   ]
  },
  {
   "cell_type": "code",
   "execution_count": 60,
   "metadata": {},
   "outputs": [
    {
     "name": "stdout",
     "output_type": "stream",
     "text": [
      "Please, insert Reverse Polish Notation: 8 5 35 / +\n",
      "8\n"
     ]
    }
   ],
   "source": [
    "notation = input('Please, insert Reverse Polish Notation: ')\n",
    "\n",
    "\n",
    "#make a list\n",
    "l = []\n",
    "l = notation.split(' ')\n",
    "\n",
    "stack = []\n",
    "\n",
    "for z in l:\n",
    "    if z == '*':\n",
    "        a = stack.pop()\n",
    "        b = stack.pop()\n",
    "        stack.append(int(a) * int(b))\n",
    "    elif z == '+':\n",
    "        a = stack.pop()\n",
    "        b = stack.pop()\n",
    "        stack.append(int(a) + int(b))\n",
    "    elif z == '-':\n",
    "        a = stack.pop()\n",
    "        b = stack.pop()\n",
    "        stack.append(int(a) - int(b))\n",
    "    elif z == '/':\n",
    "        a == stack.pop()\n",
    "        b == stack.pop()\n",
    "        stack.append(int(a) / int(b))\n",
    "    else:\n",
    "        stack.append(z)\n",
    "   \n",
    "        \n",
    "print (*stack)"
   ]
  },
  {
   "cell_type": "code",
   "execution_count": null,
   "metadata": {
    "collapsed": true
   },
   "outputs": [],
   "source": []
  }
 ],
 "metadata": {
  "kernelspec": {
   "display_name": "Python 3",
   "language": "python",
   "name": "python3"
  },
  "language_info": {
   "codemirror_mode": {
    "name": "ipython",
    "version": 3
   },
   "file_extension": ".py",
   "mimetype": "text/x-python",
   "name": "python",
   "nbconvert_exporter": "python",
   "pygments_lexer": "ipython3",
   "version": "3.6.1"
  }
 },
 "nbformat": 4,
 "nbformat_minor": 2
}
