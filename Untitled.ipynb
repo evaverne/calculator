{
 "cells": [
  {
   "cell_type": "code",
   "execution_count": 22,
   "metadata": {},
   "outputs": [
    {
     "name": "stdout",
     "output_type": "stream",
     "text": [
      "Please, insert mathematical notation: (4-2)/2\n",
      "['(', '4', '-', '2', ')', '/', '2']\n",
      "[]\n",
      "[]\n",
      "['4', '2', '-', '2', '/']\n",
      "[]\n"
     ]
    }
   ],
   "source": [
    "def isfloat(value):\n",
    "    try:\n",
    "        float(value)\n",
    "        return True\n",
    "    except ValueError:\n",
    "        return False\n",
    "\n",
    "notation = input('Please, insert mathematical notation: ')\n",
    "\n",
    "list1 = list(notation)\n",
    "digits = []\n",
    "symbols = []\n",
    "\n",
    "print(list1)\n",
    "print(digits)\n",
    "print(symbols)\n",
    "\n",
    "def priority(item):\n",
    "    if item == '(':\n",
    "        return 1\n",
    "    elif item == '+' or item == '-':\n",
    "        return 2\n",
    "    elif item == '*' or item == '/':\n",
    "        return 3\n",
    "    elif item == ')':\n",
    "        return 0\n",
    "\n",
    "for item in list1:\n",
    "    if isfloat(item):\n",
    "        digits.append(item)\n",
    "    else:\n",
    "        if priority(item) == 1:\n",
    "            symbols.append(item)\n",
    "        elif priority(item) >= 2:\n",
    "            if not symbols:\n",
    "                symbols.append(item)\n",
    "            elif priority(symbols[-1]) < priority(item):\n",
    "                symbols.append(item)\n",
    "            else:\n",
    "                while len(symbols) > 0 and priority(symbols[-1]) >= priority(item):\n",
    "                    temporary = symbols.pop()\n",
    "                    digits.append(temporary)\n",
    "                symbols.append(item)\n",
    "        elif priority(item) == 0:\n",
    "            while symbols[-1] != '(':\n",
    "                temporary = symbols.pop()\n",
    "                digits.append(temporary)\n",
    "            symbols.pop()\n",
    "\n",
    "\n",
    "while len(symbols) > 0:\n",
    "    thelast = symbols.pop()\n",
    "    digits.append(thelast)\n",
    "            \n",
    "        \n",
    "print(digits)\n",
    "print(symbols)"
   ]
  },
  {
   "cell_type": "code",
   "execution_count": 23,
   "metadata": {},
   "outputs": [
    {
     "name": "stdout",
     "output_type": "stream",
     "text": [
      "1.0\n"
     ]
    }
   ],
   "source": [
    "def isfloat(value):\n",
    "    try:\n",
    "        float(value)\n",
    "        return True\n",
    "    except ValueError:\n",
    "        return False\n",
    "\n",
    "'''while True:\n",
    "    notation = input('Please, insert Reverse Polish Notation: ')\n",
    "    l = []\n",
    "    l = notation.split(' ')\n",
    "    iscorrect = True\n",
    "    for item in l:\n",
    "        if item == '/' or item == '*' or item == '+' or item == '-':\n",
    "            continue\n",
    "        elif isfloat(item):\n",
    "            continue\n",
    "        else:\n",
    "            iscorrect = False\n",
    "    \n",
    "    if iscorrect == True:\n",
    "        break\n",
    "    else:\n",
    "        print(\"Doh!\")\n",
    "        continue'''\n",
    "        \n",
    "stack = []\n",
    "l = digits\n",
    "\n",
    "for z in l:\n",
    "    if z == '*':\n",
    "        a = stack.pop()\n",
    "        b = stack.pop()\n",
    "        stack.append(float(a) * float(b)) \n",
    "    elif z == '+':\n",
    "        a = stack.pop()\n",
    "        b = stack.pop()\n",
    "        stack.append(float(a) + float(b))\n",
    "    elif z == '-':\n",
    "        a = stack.pop()\n",
    "        b = stack.pop()\n",
    "        stack.append(float(b) - float(a))\n",
    "    elif z == '/':\n",
    "        a = stack.pop()\n",
    "        b = stack.pop()\n",
    "        stack.append(float(b) / float(a))\n",
    "    else:\n",
    "        stack.append(z)\n",
    "\n",
    "for thing in stack:\n",
    "    if len(stack) != 1:\n",
    "        print ('Error. Try again!')\n",
    "        break\n",
    "    else:\n",
    "        print (stack[0])"
   ]
  },
  {
   "cell_type": "code",
   "execution_count": null,
   "metadata": {
    "collapsed": true
   },
   "outputs": [],
   "source": []
  }
 ],
 "metadata": {
  "kernelspec": {
   "display_name": "Python 3",
   "language": "python",
   "name": "python3"
  },
  "language_info": {
   "codemirror_mode": {
    "name": "ipython",
    "version": 3
   },
   "file_extension": ".py",
   "mimetype": "text/x-python",
   "name": "python",
   "nbconvert_exporter": "python",
   "pygments_lexer": "ipython3",
   "version": "3.6.1"
  }
 },
 "nbformat": 4,
 "nbformat_minor": 2
}
