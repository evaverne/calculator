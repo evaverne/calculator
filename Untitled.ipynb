{
 "cells": [
  {
   "cell_type": "code",
   "execution_count": 14,
   "metadata": {},
   "outputs": [
    {
     "name": "stdout",
     "output_type": "stream",
     "text": [
      "Please, insert Reverse Polish Notation: 4 5 6\n",
      "Error. Try again!\n"
     ]
    }
   ],
   "source": [
    "def isfloat(value):\n",
    "    try:\n",
    "        float(value)\n",
    "        return True\n",
    "    except ValueError:\n",
    "        return False\n",
    "\n",
    "while True:\n",
    "    notation = input('Please, insert Reverse Polish Notation: ')\n",
    "    l = []\n",
    "    l = notation.split(' ')\n",
    "    iscorrect = True\n",
    "    for item in l:\n",
    "        if item == '/' or item == '*' or item == '+' or item == '-':\n",
    "            continue\n",
    "        elif isfloat(item):\n",
    "            continue\n",
    "        else:\n",
    "            iscorrect = False\n",
    "    \n",
    "    if iscorrect == True:\n",
    "        break\n",
    "    else:\n",
    "        print(\"Doh!\")\n",
    "        continue\n",
    "    \n",
    "stack = []\n",
    "\n",
    "for z in l:\n",
    "    if z == '*':\n",
    "        a = stack.pop()\n",
    "        b = stack.pop()\n",
    "        stack.append(float(a) * float(b)) \n",
    "    elif z == '+':\n",
    "        a = stack.pop()\n",
    "        b = stack.pop()\n",
    "        stack.append(float(a) + float(b))\n",
    "    elif z == '-':\n",
    "        a = stack.pop()\n",
    "        b = stack.pop()\n",
    "        stack.append(float(b) - float(a))\n",
    "    elif z == '/':\n",
    "        a = stack.pop()\n",
    "        b = stack.pop()\n",
    "        stack.append(float(b) / float(a))\n",
    "    else:\n",
    "        stack.append(z)\n",
    "\n",
    "for thing in stack:\n",
    "    if len(stack) != 1:\n",
    "        print ('Error. Try again!')\n",
    "        break\n",
    "    else:\n",
    "        print (stack[0])"
   ]
  },
  {
   "cell_type": "code",
   "execution_count": null,
   "metadata": {
    "collapsed": true
   },
   "outputs": [],
   "source": []
  }
 ],
 "metadata": {
  "kernelspec": {
   "display_name": "Python 3",
   "language": "python",
   "name": "python3"
  }
 },
 "nbformat": 4,
 "nbformat_minor": 2
}
