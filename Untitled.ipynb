{
 "cells": [
  {
   "cell_type": "code",
   "execution_count": 25,
   "metadata": {},
   "outputs": [
    {
     "name": "stdout",
     "output_type": "stream",
     "text": [
      "Please, insert Reverse Polish Notation: 1 2 +\n",
      "3.0\n"
     ]
    }
   ],
   "source": [
    "def isfloat(value):\n",
    "    try:\n",
    "        float(value)\n",
    "        return True\n",
    "    except ValueError:\n",
    "        return False\n",
    "\n",
    "while True:\n",
    "    notation = input('Please, insert Reverse Polish Notation: ')\n",
    "    l = []\n",
    "    l = notation.split(' ')\n",
    "    iscorrect = True\n",
    "    for item in l:\n",
    "        if item == '/' or item == '*' or item == '+' or item == '-':\n",
    "            continue\n",
    "        elif isfloat(item):\n",
    "            continue\n",
    "        else:\n",
    "            iscorrect = False\n",
    "    \n",
    "    if iscorrect == True:\n",
    "        break\n",
    "    else:\n",
    "        print(\"Doh!\")\n",
    "        continue\n",
    "        \n",
    "stack = []\n",
    "\n",
    "for z in l:\n",
    "    if z == '*':\n",
    "        a = stack.pop()\n",
    "        b = stack.pop()\n",
    "        stack.append(float(a) * float(b)) \n",
    "    elif z == '+':\n",
    "        a = stack.pop()\n",
    "        b = stack.pop()\n",
    "        stack.append(float(a) + float(b))\n",
    "    elif z == '-':\n",
    "        a = stack.pop()\n",
    "        b = stack.pop()\n",
    "        stack.append(float(b) - float(a))\n",
    "    elif z == '/':\n",
    "        a = stack.pop()\n",
    "        b = stack.pop()\n",
    "        stack.append(float(b) / float(a))\n",
    "    else:\n",
    "        stack.append(z)\n",
    "\n",
    "for thing in stack:\n",
    "    if len(stack) != 1:\n",
    "        print ('Error. Try again!')\n",
    "        break\n",
    "    else:\n",
    "        print (stack[0])"
   ]
  },
  {
   "cell_type": "code",
   "execution_count": 23,
   "metadata": {},
   "outputs": [
    {
     "name": "stdout",
     "output_type": "stream",
     "text": [
      "Please, insert mathematical notation: 1+(2*3)\n",
      "['1', '+', '(', '2', '*', '3', ')']\n",
      "[]\n",
      "[]\n"
     ]
    },
    {
     "ename": "NameError",
     "evalue": "name 'suspended' is not defined",
     "output_type": "error",
     "traceback": [
      "\u001b[0;31m---------------------------------------------------------------------------\u001b[0m",
      "\u001b[0;31mNameError\u001b[0m                                 Traceback (most recent call last)",
      "\u001b[0;32m<ipython-input-23-6a598d6b1dce>\u001b[0m in \u001b[0;36m<module>\u001b[0;34m()\u001b[0m\n\u001b[1;32m     37\u001b[0m             \u001b[0msymbols\u001b[0m\u001b[0;34m.\u001b[0m\u001b[0mappend\u001b[0m\u001b[0;34m(\u001b[0m\u001b[0mitem\u001b[0m\u001b[0;34m)\u001b[0m\u001b[0;34m\u001b[0m\u001b[0m\n\u001b[1;32m     38\u001b[0m     \u001b[0;32melif\u001b[0m \u001b[0mitem\u001b[0m \u001b[0;34m==\u001b[0m \u001b[0;34m')'\u001b[0m\u001b[0;34m:\u001b[0m\u001b[0;34m\u001b[0m\u001b[0m\n\u001b[0;32m---> 39\u001b[0;31m         \u001b[0mdigits\u001b[0m\u001b[0;34m.\u001b[0m\u001b[0mappend\u001b[0m\u001b[0;34m(\u001b[0m\u001b[0msuspended\u001b[0m\u001b[0;34m)\u001b[0m\u001b[0;34m\u001b[0m\u001b[0m\n\u001b[0m\u001b[1;32m     40\u001b[0m         \u001b[0msymbols\u001b[0m\u001b[0;34m.\u001b[0m\u001b[0mremove\u001b[0m\u001b[0;34m(\u001b[0m\u001b[0mtemporary\u001b[0m\u001b[0;34m)\u001b[0m\u001b[0;34m\u001b[0m\u001b[0m\n\u001b[1;32m     41\u001b[0m         \u001b[0msymbols\u001b[0m\u001b[0;34m.\u001b[0m\u001b[0mremove\u001b[0m\u001b[0;34m(\u001b[0m\u001b[0mitem\u001b[0m\u001b[0;34m)\u001b[0m\u001b[0;34m\u001b[0m\u001b[0m\n",
      "\u001b[0;31mNameError\u001b[0m: name 'suspended' is not defined"
     ]
    }
   ],
   "source": [
    "def isfloat(value):\n",
    "    try:\n",
    "        float(value)\n",
    "        return True\n",
    "    except ValueError:\n",
    "        return False\n",
    "\n",
    "notation = input('Please, insert mathematical notation: ')\n",
    "\n",
    "list1 = list(notation)\n",
    "digits = []\n",
    "symbols = []\n",
    "\n",
    "print(list1)\n",
    "print(digits)\n",
    "print(symbols)\n",
    "\n",
    "for item in list1:\n",
    "    if item == '+' or item == '-':\n",
    "        priority = 2\n",
    "    elif item == '*' or item == '/':\n",
    "        priority = 3\n",
    "    elif item == '(':\n",
    "        priority = 1\n",
    "\n",
    "for item in list1:\n",
    "    if isfloat(item):\n",
    "        digits.append(item)\n",
    "    elif item == '(':\n",
    "        symbols.append(item)\n",
    "        temporary = item\n",
    "    elif item == '+' or item == '-' or item == '*' or item == '/':\n",
    "        if item == '(' in symbols:\n",
    "            symbols.append(item)\n",
    "            suspended = item\n",
    "        elif item == '(' not in symbols:\n",
    "            symbols.append(item)\n",
    "    elif item == ')':\n",
    "        digits.append(suspended)\n",
    "        symbols.remove(temporary)\n",
    "        symbols.remove(item)\n",
    "\n",
    "#    elif item == ')'\n",
    "       \n",
    "print(digits)\n",
    "print(symbols)\n",
    "\n",
    "\n"
   ]
  },
  {
   "cell_type": "code",
   "execution_count": null,
   "metadata": {
    "collapsed": true
   },
   "outputs": [],
   "source": []
  }
 ],
 "metadata": {
  "kernelspec": {
   "display_name": "Python 3",
   "language": "python",
   "name": "python3"
  },
  "language_info": {
   "codemirror_mode": {
    "name": "ipython",
    "version": 3
   },
   "file_extension": ".py",
   "mimetype": "text/x-python",
   "name": "python",
   "nbconvert_exporter": "python",
   "pygments_lexer": "ipython3",
   "version": "3.6.1"
  }
 },
 "nbformat": 4,
 "nbformat_minor": 2
}
