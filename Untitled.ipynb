{
 "cells": [
  {
   "cell_type": "code",
   "execution_count": 22,
   "metadata": {},
   "outputs": [
    {
     "name": "stdout",
     "output_type": "stream",
     "text": [
      "Please, insert mathematical notation: (4-2)/2\n",
      "['(', '4', '-', '2', ')', '/', '2']\n",
      "[]\n",
      "[]\n",
      "['4', '2', '-', '2', '/']\n",
      "[]\n"
     ]
    }
   ],
   "source": [
    "def isfloat(value):\n",
    "    try:\n",
    "        float(value)\n",
    "        return True\n",
    "    except ValueError:\n",
    "        return False\n",
    "\n",
    "notation = input('Please, insert mathematical notation: ')\n",
    "\n",
    "list1 = list(notation)\n",
    "digits = []\n",
    "symbols = []\n",
    "\n",
    "print(list1)\n",
    "print(digits)\n",
    "print(symbols)\n",
    "\n",
    "def priority(item):\n",
    "    if item == '(':\n",
    "        return 1\n",
    "    elif item == '+' or item == '-':\n",
    "        return 2\n",
    "    elif item == '*' or item == '/':\n",
    "        return 3\n",
    "    elif item == ')':\n",
    "        return 0\n",
    "\n",
    "for item in list1:\n",
    "    if isfloat(item):\n",
    "        digits.append(item)\n",
    "    else:\n",
    "        if priority(item) == 1:\n",
    "            symbols.append(item)\n",
    "        elif priority(item) >= 2:\n",
    "            if not symbols:\n",
    "                symbols.append(item)\n",
    "            elif priority(symbols[-1]) < priority(item):\n",
    "                symbols.append(item)\n",
    "            else:\n",
    "                while len(symbols) > 0 and priority(symbols[-1]) >= priority(item):\n",
    "                    temporary = symbols.pop()\n",
    "                    digits.append(temporary)\n",
    "                symbols.append(item)\n",
    "        elif priority(item) == 0:\n",
    "            while symbols[-1] != '(':\n",
    "                temporary = symbols.pop()\n",
    "                digits.append(temporary)\n",
    "            symbols.pop()\n",
    "\n",
    "\n",
    "while len(symbols) > 0:\n",
    "    thelast = symbols.pop()\n",
    "    digits.append(thelast)\n",
    "            \n",
    "        \n",
    "print(digits)\n",
    "print(symbols)"
   ]
  },
  {
   "cell_type": "code",
   "execution_count": 23,
   "metadata": {},
   "outputs": [
    {
     "name": "stdout",
     "output_type": "stream",
     "text": [
      "1.0\n"
     ]
    }
   ],
   "source": [
    "def isfloat(value):\n",
    "    try:\n",
    "        float(value)\n",
    "        return True\n",
    "    except ValueError:\n",
    "        return False\n",
    "\n",
    "'''while True:\n",
    "    notation = input('Please, insert Reverse Polish Notation: ')\n",
    "    l = []\n",
    "    l = notation.split(' ')\n",
    "    iscorrect = True\n",
    "    for item in l:\n",
    "        if item == '/' or item == '*' or item == '+' or item == '-':\n",
    "            continue\n",
    "        elif isfloat(item):\n",
    "            continue\n",
    "        else:\n",
    "            iscorrect = False\n",
    "    \n",
    "    if iscorrect == True:\n",
    "        break\n",
    "    else:\n",
    "        print(\"Doh!\")\n",
    "        continue'''\n",
    "        \n",
    "stack = []\n",
    "l = digits\n",
    "\n",
    "for z in l:\n",
    "    if z == '*':\n",
    "        a = stack.pop()\n",
    "        b = stack.pop()\n",
    "        stack.append(float(a) * float(b)) \n",
    "    elif z == '+':\n",
    "        a = stack.pop()\n",
    "        b = stack.pop()\n",
    "        stack.append(float(a) + float(b))\n",
    "    elif z == '-':\n",
    "        a = stack.pop()\n",
    "        b = stack.pop()\n",
    "        stack.append(float(b) - float(a))\n",
    "    elif z == '/':\n",
    "        a = stack.pop()\n",
    "        b = stack.pop()\n",
    "        stack.append(float(b) / float(a))\n",
    "    else:\n",
    "        stack.append(z)\n",
    "\n",
    "for thing in stack:\n",
    "    if len(stack) != 1:\n",
    "        print ('Error. Try again!')\n",
    "        break\n",
    "    else:\n",
    "        print (stack[0])"
   ]
  },
  {
   "cell_type": "code",
   "execution_count": 1,
   "metadata": {},
   "outputs": [
    {
     "data": {
      "text/plain": [
       "\"How to divide my list:\\nThere are 3 possible scenario. Spacing matters\\n1) A*B+(C-D)\\n2) A * B + (C - D)\\n3) A * B + ( C - D )\\n\\n3d way is rather obvious. It's just important to put a clear instruction before the input holder. The main disadvantage \\nis that it is not natural, not user-friendly to ask people to put space in between every and each symbol. \\n\""
      ]
     },
     "execution_count": 1,
     "metadata": {},
     "output_type": "execute_result"
    }
   ],
   "source": [
    "'''How to divide my list:\n",
    "There are 3 possible scenario. Spacing matters\n",
    "1) A*B+(C-D)\n",
    "2) A * B + (C - D)\n",
    "3) A * B + ( C - D )\n",
    "\n",
    "3d way is rather obvious. It's just important to put a clear instruction before the input holder. The main disadvantage \n",
    "is that it is not natural, not user-friendly to ask people to put space in between every and each symbol. \n",
    "\n",
    "Before I come back to the 2nd way, which seems more complicated to me, I will describe the first one. \n",
    "\n",
    "Here A*B+(C-D) a computer should distinguish between the number and the symbol. Thus it will add space every time it \n",
    "meets the following symbol. \n",
    "\n",
    "The rules are:\n",
    "1. Spaces should be placed between symbols. \n",
    "[...45 - ( 34 +...]\n",
    "2. Spaces should be placed between symbols and numbers.\n",
    "[123 + 321]\n",
    "3. Neighboring digits should not be divided. \n",
    "['123']\n",
    "4. Every symbol should be checked. It is unavoidable. \n",
    "\n",
    "The algorythm:\n",
    "1. First item should go to the list:\n",
    "l = ['1']\n",
    "2. Starting from the second item, you have to check: \n",
    "    2.2. Is it float or symbol?\n",
    "        2.3. if number:\n",
    "            2.4. Check the previous item. If it's float:\n",
    "                join them\n",
    "            2.5. If it's a symbol:\n",
    "                put the space between them (not sure yet whether it should be before the current item or after \n",
    "                the previous one...)\n",
    "        2.6. if symbol:\n",
    "            2.7. put the space between them\n",
    "            \n",
    "The problem I see now is that I don't know how computer will read the float number. \n",
    "'''"
   ]
  },
  {
   "cell_type": "code",
   "execution_count": 11,
   "metadata": {},
   "outputs": [
    {
     "name": "stdout",
     "output_type": "stream",
     "text": [
      "Please, insert mathematical notation: 123+4\n",
      "['1', '2', '3', '+', '4']\n",
      "[]\n"
     ]
    },
    {
     "ename": "KeyboardInterrupt",
     "evalue": "",
     "output_type": "error",
     "traceback": [
      "\u001b[0;31m---------------------------------------------------------------------------\u001b[0m",
      "\u001b[0;31mKeyboardInterrupt\u001b[0m                         Traceback (most recent call last)",
      "\u001b[0;32m<ipython-input-11-9eb22f0a18ff>\u001b[0m in \u001b[0;36m<module>\u001b[0;34m()\u001b[0m\n\u001b[1;32m     21\u001b[0m         \u001b[0;32mif\u001b[0m \u001b[0misfloat\u001b[0m\u001b[0;34m(\u001b[0m\u001b[0mitem\u001b[0m\u001b[0;34m)\u001b[0m\u001b[0;34m:\u001b[0m\u001b[0;34m\u001b[0m\u001b[0m\n\u001b[1;32m     22\u001b[0m             \u001b[0;32mwhile\u001b[0m \u001b[0misfloat\u001b[0m\u001b[0;34m(\u001b[0m\u001b[0mlist2\u001b[0m\u001b[0;34m[\u001b[0m\u001b[0;34m-\u001b[0m\u001b[0;36m1\u001b[0m\u001b[0;34m]\u001b[0m\u001b[0;34m)\u001b[0m\u001b[0;34m:\u001b[0m\u001b[0;34m\u001b[0m\u001b[0m\n\u001b[0;32m---> 23\u001b[0;31m                 \u001b[0mpre\u001b[0m \u001b[0;34m=\u001b[0m \u001b[0;34m''\u001b[0m\u001b[0;34m.\u001b[0m\u001b[0mjoin\u001b[0m\u001b[0;34m(\u001b[0m\u001b[0mlist2\u001b[0m\u001b[0;34m[\u001b[0m\u001b[0;34m-\u001b[0m\u001b[0;36m1\u001b[0m\u001b[0;34m]\u001b[0m\u001b[0;34m+\u001b[0m\u001b[0mitem\u001b[0m\u001b[0;34m)\u001b[0m\u001b[0;34m\u001b[0m\u001b[0m\n\u001b[0m\u001b[1;32m     24\u001b[0m                 \u001b[0mlist2\u001b[0m\u001b[0;34m.\u001b[0m\u001b[0mappend\u001b[0m\u001b[0;34m(\u001b[0m\u001b[0mpre\u001b[0m\u001b[0;34m)\u001b[0m\u001b[0;34m\u001b[0m\u001b[0m\n\u001b[1;32m     25\u001b[0m             \u001b[0;32mwhile\u001b[0m \u001b[0;32mnot\u001b[0m \u001b[0misfloat\u001b[0m\u001b[0;34m(\u001b[0m\u001b[0mlist2\u001b[0m\u001b[0;34m[\u001b[0m\u001b[0;34m-\u001b[0m\u001b[0;36m1\u001b[0m\u001b[0;34m]\u001b[0m\u001b[0;34m)\u001b[0m\u001b[0;34m:\u001b[0m\u001b[0;34m\u001b[0m\u001b[0m\n",
      "\u001b[0;31mKeyboardInterrupt\u001b[0m: "
     ]
    }
   ],
   "source": [
    "def isfloat(value):\n",
    "    try:\n",
    "        float(value)\n",
    "        return True\n",
    "    except ValueError:\n",
    "        return False\n",
    "\n",
    "    \n",
    "notation = input('Please, insert mathematical notation: ')\n",
    "\n",
    "list1 = list(notation)\n",
    "list2 = []\n",
    "\n",
    "print(list1)\n",
    "print(list2)\n",
    "\n",
    "for item in list1:\n",
    "    if not list2:          #OR if len(list2) == 0:\n",
    "        list2.append(item)\n",
    "    else:\n",
    "        \n",
    "        if isfloat(item):\n",
    "            while isfloat(list2[-1]):\n",
    "                pre = ''.join(list2[-1]+item)\n",
    "                list2.append(pre)\n",
    "            while not isfloat(list2[-1]):\n",
    "                list2.pop(item)\n",
    "                list2.append(' ')\n",
    "                list2.append(item)\n",
    "        else:\n",
    "            while isfloat(list2[-1]):\n",
    "                pre = ''.join(list2[-1]+item)\n",
    "                list2.append(pre)\n",
    "            while not isfloat(list2[-1]):\n",
    "                list2.pop(item)\n",
    "                list2.append(' ')\n",
    "                list2.append(item)\n",
    "\n",
    "print(list2)\n",
    "            \n",
    "            "
   ]
  },
  {
   "cell_type": "code",
   "execution_count": null,
   "metadata": {
    "collapsed": true
   },
   "outputs": [],
   "source": []
  }
 ],
 "metadata": {
  "kernelspec": {
   "display_name": "Python 3",
   "language": "python",
   "name": "python3"
  },
  "language_info": {
   "codemirror_mode": {
    "name": "ipython",
    "version": 3
   },
   "file_extension": ".py",
   "mimetype": "text/x-python",
   "name": "python",
   "nbconvert_exporter": "python",
   "pygments_lexer": "ipython3",
   "version": "3.6.1"
  }
 },
 "nbformat": 4,
 "nbformat_minor": 2
}
