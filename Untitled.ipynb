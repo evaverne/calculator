{
 "cells": [
  {
   "cell_type": "code",
   "execution_count": 8,
   "metadata": {},
   "outputs": [
    {
     "name": "stdout",
     "output_type": "stream",
     "text": [
      "Please, insert Reverse Polish Notation: 3 4 5 \n",
      "Shit happens. Just delete letters, we won't need them anyway.\n"
     ]
    }
   ],
   "source": [
    "notation = input('Please, insert Reverse Polish Notation: ')\n",
    "l = []\n",
    "l = notation.split(' ')\n",
    "\n",
    "if any(item.isalnum for item in notation):\n",
    "    print(\"Shit happens. Just delete letters, we won't need them anyway.\")\n",
    "else:\n",
    "    print(\"Ok\")"
   ]
  },
  {
   "cell_type": "code",
   "execution_count": 4,
   "metadata": {},
   "outputs": [
    {
     "name": "stdout",
     "output_type": "stream",
     "text": [
      "Please, insert Reverse Polish Notation: 6 7 -\n",
      "1\n"
     ]
    }
   ],
   "source": [
    "notation = input('Please, insert Reverse Polish Notation: ')\n",
    "\n",
    "\n",
    "#make a list\n",
    "l = []\n",
    "l = notation.split(' ')\n",
    "\n",
    "stack = []\n",
    "\n",
    "for z in l:\n",
    "    if z == '*':\n",
    "        a = stack.pop()\n",
    "        b = stack.pop()\n",
    "        stack.append(int(a) * int(b)) \n",
    "    elif z == '+':\n",
    "        a = stack.pop()\n",
    "        b = stack.pop()\n",
    "        stack.append(int(a) + int(b))\n",
    "    elif z == '-':\n",
    "        a = stack.pop()\n",
    "        b = stack.pop()\n",
    "        stack.append(int(a) - int(b))\n",
    "    elif z == '/':\n",
    "        a = stack.pop()\n",
    "        b = stack.pop()\n",
    "        stack.append(int(a) / int(b))\n",
    "    else:\n",
    "        stack.append(z)\n",
    "   \n",
    "        \n",
    "print (stack[0])"
   ]
  },
  {
   "cell_type": "code",
   "execution_count": 9,
   "metadata": {},
   "outputs": [
    {
     "name": "stdout",
     "output_type": "stream",
     "text": [
      "1\n",
      "4\n",
      "9\n"
     ]
    }
   ],
   "source": []
  },
  {
   "cell_type": "code",
   "execution_count": null,
   "metadata": {
    "collapsed": true
   },
   "outputs": [],
   "source": []
  }
 ],
 "metadata": {
  "kernelspec": {
   "display_name": "Python 3",
   "language": "python",
   "name": "python3"
  },
  "language_info": {
   "codemirror_mode": {
    "name": "ipython",
    "version": 3
   },
   "file_extension": ".py",
   "mimetype": "text/x-python",
   "name": "python",
   "nbconvert_exporter": "python",
   "pygments_lexer": "ipython3",
   "version": "3.6.1"
  }
 },
 "nbformat": 4,
 "nbformat_minor": 2
}
