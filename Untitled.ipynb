{
 "cells": [
  {
   "cell_type": "code",
   "execution_count": 30,
   "metadata": {},
   "outputs": [
    {
     "name": "stdout",
     "output_type": "stream",
     "text": [
      "Please, insert mathematical notation: 3+4-(3+2)\n",
      "['3', '+', '4', '-', '(', '3', '+', '2', ')']\n",
      "[]\n",
      "[]\n"
     ]
    },
    {
     "ename": "TypeError",
     "evalue": "'>=' not supported between instances of 'NoneType' and 'int'",
     "output_type": "error",
     "traceback": [
      "\u001b[0;31m---------------------------------------------------------------------------\u001b[0m",
      "\u001b[0;31mTypeError\u001b[0m                                 Traceback (most recent call last)",
      "\u001b[0;32m<ipython-input-30-6ff228ba9019>\u001b[0m in \u001b[0;36m<module>\u001b[0;34m()\u001b[0m\n\u001b[1;32m     43\u001b[0m         \u001b[0;32mif\u001b[0m \u001b[0mpriority\u001b[0m\u001b[0;34m(\u001b[0m\u001b[0mitem\u001b[0m\u001b[0;34m)\u001b[0m \u001b[0;34m==\u001b[0m \u001b[0;36m1\u001b[0m\u001b[0;34m:\u001b[0m\u001b[0;34m\u001b[0m\u001b[0m\n\u001b[1;32m     44\u001b[0m             \u001b[0msymbols\u001b[0m\u001b[0;34m.\u001b[0m\u001b[0mappend\u001b[0m\u001b[0;34m(\u001b[0m\u001b[0mitem\u001b[0m\u001b[0;34m)\u001b[0m\u001b[0;34m\u001b[0m\u001b[0m\n\u001b[0;32m---> 45\u001b[0;31m         \u001b[0;32melif\u001b[0m \u001b[0mpriority\u001b[0m\u001b[0;34m(\u001b[0m\u001b[0mitem\u001b[0m\u001b[0;34m)\u001b[0m \u001b[0;34m>=\u001b[0m \u001b[0;36m2\u001b[0m\u001b[0;34m:\u001b[0m\u001b[0;34m\u001b[0m\u001b[0m\n\u001b[0m\u001b[1;32m     46\u001b[0m             \u001b[0;32mif\u001b[0m \u001b[0mlen\u001b[0m\u001b[0;34m(\u001b[0m\u001b[0msymbols\u001b[0m\u001b[0;34m)\u001b[0m \u001b[0;34m==\u001b[0m \u001b[0;36m0\u001b[0m\u001b[0;34m:\u001b[0m\u001b[0;34m\u001b[0m\u001b[0m\n\u001b[1;32m     47\u001b[0m                 \u001b[0msymbols\u001b[0m\u001b[0;34m.\u001b[0m\u001b[0mappend\u001b[0m\u001b[0;34m(\u001b[0m\u001b[0mitem\u001b[0m\u001b[0;34m)\u001b[0m\u001b[0;34m\u001b[0m\u001b[0m\n",
      "\u001b[0;31mTypeError\u001b[0m: '>=' not supported between instances of 'NoneType' and 'int'"
     ]
    }
   ],
   "source": [
    "def isfloat(value):\n",
    "    try:\n",
    "        float(value)\n",
    "        return True\n",
    "    except ValueError:\n",
    "        return False\n",
    "\n",
    "notation = input('Please, insert mathematical notation: ')\n",
    "\n",
    "list1 = list(notation)\n",
    "digits = []\n",
    "symbols = []\n",
    "\n",
    "print(list1)\n",
    "print(digits)\n",
    "print(symbols)\n",
    "\n",
    "def priority(item):\n",
    "    if item == '+' or item == '-':\n",
    "        return 2\n",
    "    elif item == '*' or item == '/':\n",
    "        return 3\n",
    "    elif item == '(':\n",
    "        return 1\n",
    "    \n",
    "'''def priority(item):\n",
    "    item = '+'\n",
    "    return 2\n",
    "    item = '-'\n",
    "    return 2\n",
    "    item = '*'\n",
    "    return 3\n",
    "    item = '/'\n",
    "    return 3\n",
    "    item = '('\n",
    "    return 1'''\n",
    "        \n",
    "\n",
    "for item in list1:\n",
    "    if isfloat(item):\n",
    "        digits.append(item)\n",
    "    else:\n",
    "        if priority(item) == 1:\n",
    "            symbols.append(item)\n",
    "        elif priority(item) >= 2:   \n",
    "            if len(symbols) == 0: #changed this one\n",
    "                symbols.append(item)\n",
    "            elif priority(symbols[-1]) < priority(item):\n",
    "                symbols.append(item)\n",
    "            else:\n",
    "                while len(symbols) > 0 and priority(symbols[-1]) >= priority(item):\n",
    "                    temporary = symbols.pop()\n",
    "                    digits.append(temporary)\n",
    "                symbols.append(item)\n",
    "        elif item == ')':\n",
    "            while symbols[-1] != '(':\n",
    "                temporary = symbols.pop()\n",
    "                digits.append(temporary)\n",
    "            symbols.pop()\n",
    "            \n",
    "while len(symbols) > 0:\n",
    "    thelast = symbols.pop()\n",
    "    digits.append(thelast)\n",
    "            \n",
    "        \n",
    "print(digits)\n",
    "print(symbols)"
   ]
  },
  {
   "cell_type": "code",
   "execution_count": 21,
   "metadata": {},
   "outputs": [
    {
     "name": "stdout",
     "output_type": "stream",
     "text": [
      "Error. Try again!\n"
     ]
    }
   ],
   "source": [
    "def isfloat(value):\n",
    "    try:\n",
    "        float(value)\n",
    "        return True\n",
    "    except ValueError:\n",
    "        return False\n",
    "\n",
    "'''while True:\n",
    "    notation = input('Please, insert Reverse Polish Notation: ')\n",
    "    l = []\n",
    "    l = notation.split(' ')\n",
    "    iscorrect = True\n",
    "    for item in l:\n",
    "        if item == '/' or item == '*' or item == '+' or item == '-':\n",
    "            continue\n",
    "        elif isfloat(item):\n",
    "            continue\n",
    "        else:\n",
    "            iscorrect = False\n",
    "    \n",
    "    if iscorrect == True:\n",
    "        break\n",
    "    else:\n",
    "        print(\"Doh!\")\n",
    "        continue'''\n",
    "        \n",
    "stack = []\n",
    "l = digits\n",
    "\n",
    "for z in l:\n",
    "    if z == '*':\n",
    "        a = stack.pop()\n",
    "        b = stack.pop()\n",
    "        stack.append(float(a) * float(b)) \n",
    "    elif z == '+':\n",
    "        a = stack.pop()\n",
    "        b = stack.pop()\n",
    "        stack.append(float(a) + float(b))\n",
    "    elif z == '-':\n",
    "        a = stack.pop()\n",
    "        b = stack.pop()\n",
    "        stack.append(float(b) - float(a))\n",
    "    elif z == '/':\n",
    "        a = stack.pop()\n",
    "        b = stack.pop()\n",
    "        stack.append(float(b) / float(a))\n",
    "    else:\n",
    "        stack.append(z)\n",
    "\n",
    "for thing in stack:\n",
    "    if len(stack) != 1:\n",
    "        print ('Error. Try again!')\n",
    "        break\n",
    "    else:\n",
    "        print (stack[0])"
   ]
  },
  {
   "cell_type": "code",
   "execution_count": 17,
   "metadata": {},
   "outputs": [
    {
     "ename": "ValueError",
     "evalue": "-1 is not in list",
     "output_type": "error",
     "traceback": [
      "\u001b[0;31m---------------------------------------------------------------------------\u001b[0m",
      "\u001b[0;31mValueError\u001b[0m                                Traceback (most recent call last)",
      "\u001b[0;32m<ipython-input-17-d49283de9f23>\u001b[0m in \u001b[0;36m<module>\u001b[0;34m()\u001b[0m\n\u001b[1;32m      1\u001b[0m \u001b[0mop\u001b[0m \u001b[0;34m=\u001b[0m \u001b[0;34m[\u001b[0m\u001b[0;36m1\u001b[0m\u001b[0;34m]\u001b[0m\u001b[0;34m\u001b[0m\u001b[0m\n\u001b[0;32m----> 2\u001b[0;31m \u001b[0mprint\u001b[0m\u001b[0;34m(\u001b[0m\u001b[0mop\u001b[0m\u001b[0;34m.\u001b[0m\u001b[0mindex\u001b[0m\u001b[0;34m(\u001b[0m\u001b[0;34m-\u001b[0m\u001b[0;36m1\u001b[0m\u001b[0;34m)\u001b[0m\u001b[0;34m)\u001b[0m\u001b[0;34m\u001b[0m\u001b[0m\n\u001b[0m",
      "\u001b[0;31mValueError\u001b[0m: -1 is not in list"
     ]
    }
   ],
   "source": [
    "op = [1]\n",
    "print(op.index(-1))"
   ]
  },
  {
   "cell_type": "code",
   "execution_count": 37,
   "metadata": {},
   "outputs": [
    {
     "name": "stdout",
     "output_type": "stream",
     "text": [
      "Please, insert mathematical notation: (2+2)*3\n",
      "['(', '2', '+', '2', ')', '*', '3']\n",
      "[]\n",
      "[]\n",
      "['(']\n",
      "[]\n"
     ]
    },
    {
     "ename": "TypeError",
     "evalue": "'>=' not supported between instances of 'NoneType' and 'int'",
     "output_type": "error",
     "traceback": [
      "\u001b[0;31m---------------------------------------------------------------------------\u001b[0m",
      "\u001b[0;31mTypeError\u001b[0m                                 Traceback (most recent call last)",
      "\u001b[0;32m<ipython-input-37-187669a5c7be>\u001b[0m in \u001b[0;36m<module>\u001b[0;34m()\u001b[0m\n\u001b[1;32m     46\u001b[0m         \u001b[0;32melif\u001b[0m \u001b[0misfloat\u001b[0m\u001b[0;34m(\u001b[0m\u001b[0mitem\u001b[0m\u001b[0;34m)\u001b[0m\u001b[0;34m:\u001b[0m\u001b[0;34m\u001b[0m\u001b[0m\n\u001b[1;32m     47\u001b[0m             \u001b[0mdigits\u001b[0m\u001b[0;34m.\u001b[0m\u001b[0mappend\u001b[0m\u001b[0;34m(\u001b[0m\u001b[0mitem\u001b[0m\u001b[0;34m)\u001b[0m\u001b[0;34m\u001b[0m\u001b[0m\n\u001b[0;32m---> 48\u001b[0;31m         \u001b[0;32melif\u001b[0m \u001b[0mpriority\u001b[0m\u001b[0;34m(\u001b[0m\u001b[0mitem\u001b[0m\u001b[0;34m)\u001b[0m \u001b[0;34m>=\u001b[0m \u001b[0;36m2\u001b[0m\u001b[0;34m:\u001b[0m\u001b[0;34m\u001b[0m\u001b[0m\n\u001b[0m\u001b[1;32m     49\u001b[0m             \u001b[0;32mif\u001b[0m \u001b[0;32mnot\u001b[0m \u001b[0msymbols\u001b[0m\u001b[0;34m:\u001b[0m\u001b[0;34m\u001b[0m\u001b[0m\n\u001b[1;32m     50\u001b[0m                 \u001b[0msymbols\u001b[0m\u001b[0;34m.\u001b[0m\u001b[0mappend\u001b[0m\u001b[0;34m(\u001b[0m\u001b[0mitem\u001b[0m\u001b[0;34m)\u001b[0m\u001b[0;34m\u001b[0m\u001b[0m\n",
      "\u001b[0;31mTypeError\u001b[0m: '>=' not supported between instances of 'NoneType' and 'int'"
     ]
    }
   ],
   "source": [
    "def isfloat(value):\n",
    "    try:\n",
    "        float(value)\n",
    "        return True\n",
    "    except ValueError:\n",
    "        return False\n",
    "\n",
    "notation = input('Please, insert mathematical notation: ')\n",
    "\n",
    "list1 = list(notation)\n",
    "digits = []\n",
    "symbols = []\n",
    "\n",
    "print(list1)\n",
    "print(digits)\n",
    "print(symbols)\n",
    "\n",
    "'''def priority(item):\n",
    "    if item == '+' or item == '-':\n",
    "        return 2\n",
    "    elif item == '*' or item == '/':\n",
    "        return 3\n",
    "    elif item == '(':\n",
    "        return 1'''\n",
    "\n",
    "def priority(item):\n",
    "    if item == '+':\n",
    "        return 2\n",
    "    if item == '-':\n",
    "        return 2\n",
    "    if item == '*':\n",
    "        return 3\n",
    "    if item == '/':\n",
    "        return 3\n",
    "    if item == '(':\n",
    "        return 1\n",
    "\n",
    "for item in list1:\n",
    "    if isfloat(item):\n",
    "        digits.append(item)\n",
    "    else:\n",
    "        if priority(item) == 1:\n",
    "            symbols.append(item)\n",
    "            print(symbols)\n",
    "            print(digits)\n",
    "        elif isfloat(item):\n",
    "            digits.append(item)\n",
    "        elif priority(item) >= 2:   \n",
    "            if not symbols:\n",
    "                symbols.append(item)\n",
    "            elif priority(symbols[-1]) < priority(item):\n",
    "                symbols.append(item)\n",
    "            else:\n",
    "                while len(symbols) > 0 and priority(symbols[-1]) >= priority(item):\n",
    "                    temporary = symbols.pop()\n",
    "                    digits.append(temporary)\n",
    "                symbols.append(item)\n",
    "        elif item == ')':\n",
    "            while symbols[-1] != '(':\n",
    "                temporary = symbols.pop()\n",
    "                digits.append(temporary)\n",
    "            symbols.pop()\n",
    "            \n",
    "while len(symbols) > 0:\n",
    "    thelast = symbols.pop()\n",
    "    digits.append(thelast)\n",
    "            \n",
    "        \n",
    "print(digits)\n",
    "print(symbols)"
   ]
  },
  {
   "cell_type": "code",
   "execution_count": null,
   "metadata": {
    "collapsed": true
   },
   "outputs": [],
   "source": []
  }
 ],
 "metadata": {
  "kernelspec": {
   "display_name": "Python 3",
   "language": "python",
   "name": "python3"
  },
  "language_info": {
   "codemirror_mode": {
    "name": "ipython",
    "version": 3
   },
   "file_extension": ".py",
   "mimetype": "text/x-python",
   "name": "python",
   "nbconvert_exporter": "python",
   "pygments_lexer": "ipython3",
   "version": "3.6.1"
  }
 },
 "nbformat": 4,
 "nbformat_minor": 2
}
